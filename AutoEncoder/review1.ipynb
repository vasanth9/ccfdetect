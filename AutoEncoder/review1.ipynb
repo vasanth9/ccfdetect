{
  "nbformat": 4,
  "nbformat_minor": 0,
  "metadata": {
    "colab": {
      "name": "week3.ipynb",
      "provenance": [],
      "mount_file_id": "https://github.com/vasanth9/ccfdetect/blob/master/AutoEncoder/week3.ipynb",
      "authorship_tag": "ABX9TyPes+T3ODYb8B4Ms37mmhad",
      "include_colab_link": true
    },
    "kernelspec": {
      "name": "python3",
      "display_name": "Python 3"
    }
  },
  "cells": [
    {
      "cell_type": "markdown",
      "metadata": {
        "id": "view-in-github",
        "colab_type": "text"
      },
      "source": [
        "<a href=\"https://colab.research.google.com/github/vasanth9/ccfdetect/blob/master/AutoEncoder/review1.ipynb\" target=\"_parent\"><img src=\"https://colab.research.google.com/assets/colab-badge.svg\" alt=\"Open In Colab\"/></a>"
      ]
    },
    {
      "cell_type": "markdown",
      "metadata": {
        "id": "pyCmIbcGPelD"
      },
      "source": [
        "###Data Loading..."
      ]
    },
    {
      "cell_type": "code",
      "metadata": {
        "id": "jtGs3Nzy48i7"
      },
      "source": [
        "import pandas as pd"
      ],
      "execution_count": 1,
      "outputs": []
    },
    {
      "cell_type": "code",
      "metadata": {
        "id": "HD3vQKFIANI8"
      },
      "source": [
        "import numpy as np\n",
        "import matplotlib.pyplot as plt\n",
        "import seaborn as sns\n",
        "from sklearn.preprocessing import StandardScaler\n",
        "from sklearn.model_selection import train_test_split"
      ],
      "execution_count": 2,
      "outputs": []
    },
    {
      "cell_type": "code",
      "metadata": {
        "colab": {
          "base_uri": "https://localhost:8080/",
          "height": 218
        },
        "id": "-PCx2kv252dO",
        "outputId": "ecdb10e1-1ca5-4699-c55e-49955c15a180"
      },
      "source": [
        "df = pd.read_csv('/content/drive/MyDrive/creditcard.csv')\n",
        "df.head()"
      ],
      "execution_count": 3,
      "outputs": [
        {
          "output_type": "execute_result",
          "data": {
            "text/html": [
              "<div>\n",
              "<style scoped>\n",
              "    .dataframe tbody tr th:only-of-type {\n",
              "        vertical-align: middle;\n",
              "    }\n",
              "\n",
              "    .dataframe tbody tr th {\n",
              "        vertical-align: top;\n",
              "    }\n",
              "\n",
              "    .dataframe thead th {\n",
              "        text-align: right;\n",
              "    }\n",
              "</style>\n",
              "<table border=\"1\" class=\"dataframe\">\n",
              "  <thead>\n",
              "    <tr style=\"text-align: right;\">\n",
              "      <th></th>\n",
              "      <th>Time</th>\n",
              "      <th>V1</th>\n",
              "      <th>V2</th>\n",
              "      <th>V3</th>\n",
              "      <th>V4</th>\n",
              "      <th>V5</th>\n",
              "      <th>V6</th>\n",
              "      <th>V7</th>\n",
              "      <th>V8</th>\n",
              "      <th>V9</th>\n",
              "      <th>V10</th>\n",
              "      <th>V11</th>\n",
              "      <th>V12</th>\n",
              "      <th>V13</th>\n",
              "      <th>V14</th>\n",
              "      <th>V15</th>\n",
              "      <th>V16</th>\n",
              "      <th>V17</th>\n",
              "      <th>V18</th>\n",
              "      <th>V19</th>\n",
              "      <th>V20</th>\n",
              "      <th>V21</th>\n",
              "      <th>V22</th>\n",
              "      <th>V23</th>\n",
              "      <th>V24</th>\n",
              "      <th>V25</th>\n",
              "      <th>V26</th>\n",
              "      <th>V27</th>\n",
              "      <th>V28</th>\n",
              "      <th>Amount</th>\n",
              "      <th>Class</th>\n",
              "    </tr>\n",
              "  </thead>\n",
              "  <tbody>\n",
              "    <tr>\n",
              "      <th>0</th>\n",
              "      <td>0.0</td>\n",
              "      <td>-1.359807</td>\n",
              "      <td>-0.072781</td>\n",
              "      <td>2.536347</td>\n",
              "      <td>1.378155</td>\n",
              "      <td>-0.338321</td>\n",
              "      <td>0.462388</td>\n",
              "      <td>0.239599</td>\n",
              "      <td>0.098698</td>\n",
              "      <td>0.363787</td>\n",
              "      <td>0.090794</td>\n",
              "      <td>-0.551600</td>\n",
              "      <td>-0.617801</td>\n",
              "      <td>-0.991390</td>\n",
              "      <td>-0.311169</td>\n",
              "      <td>1.468177</td>\n",
              "      <td>-0.470401</td>\n",
              "      <td>0.207971</td>\n",
              "      <td>0.025791</td>\n",
              "      <td>0.403993</td>\n",
              "      <td>0.251412</td>\n",
              "      <td>-0.018307</td>\n",
              "      <td>0.277838</td>\n",
              "      <td>-0.110474</td>\n",
              "      <td>0.066928</td>\n",
              "      <td>0.128539</td>\n",
              "      <td>-0.189115</td>\n",
              "      <td>0.133558</td>\n",
              "      <td>-0.021053</td>\n",
              "      <td>149.62</td>\n",
              "      <td>0</td>\n",
              "    </tr>\n",
              "    <tr>\n",
              "      <th>1</th>\n",
              "      <td>0.0</td>\n",
              "      <td>1.191857</td>\n",
              "      <td>0.266151</td>\n",
              "      <td>0.166480</td>\n",
              "      <td>0.448154</td>\n",
              "      <td>0.060018</td>\n",
              "      <td>-0.082361</td>\n",
              "      <td>-0.078803</td>\n",
              "      <td>0.085102</td>\n",
              "      <td>-0.255425</td>\n",
              "      <td>-0.166974</td>\n",
              "      <td>1.612727</td>\n",
              "      <td>1.065235</td>\n",
              "      <td>0.489095</td>\n",
              "      <td>-0.143772</td>\n",
              "      <td>0.635558</td>\n",
              "      <td>0.463917</td>\n",
              "      <td>-0.114805</td>\n",
              "      <td>-0.183361</td>\n",
              "      <td>-0.145783</td>\n",
              "      <td>-0.069083</td>\n",
              "      <td>-0.225775</td>\n",
              "      <td>-0.638672</td>\n",
              "      <td>0.101288</td>\n",
              "      <td>-0.339846</td>\n",
              "      <td>0.167170</td>\n",
              "      <td>0.125895</td>\n",
              "      <td>-0.008983</td>\n",
              "      <td>0.014724</td>\n",
              "      <td>2.69</td>\n",
              "      <td>0</td>\n",
              "    </tr>\n",
              "    <tr>\n",
              "      <th>2</th>\n",
              "      <td>1.0</td>\n",
              "      <td>-1.358354</td>\n",
              "      <td>-1.340163</td>\n",
              "      <td>1.773209</td>\n",
              "      <td>0.379780</td>\n",
              "      <td>-0.503198</td>\n",
              "      <td>1.800499</td>\n",
              "      <td>0.791461</td>\n",
              "      <td>0.247676</td>\n",
              "      <td>-1.514654</td>\n",
              "      <td>0.207643</td>\n",
              "      <td>0.624501</td>\n",
              "      <td>0.066084</td>\n",
              "      <td>0.717293</td>\n",
              "      <td>-0.165946</td>\n",
              "      <td>2.345865</td>\n",
              "      <td>-2.890083</td>\n",
              "      <td>1.109969</td>\n",
              "      <td>-0.121359</td>\n",
              "      <td>-2.261857</td>\n",
              "      <td>0.524980</td>\n",
              "      <td>0.247998</td>\n",
              "      <td>0.771679</td>\n",
              "      <td>0.909412</td>\n",
              "      <td>-0.689281</td>\n",
              "      <td>-0.327642</td>\n",
              "      <td>-0.139097</td>\n",
              "      <td>-0.055353</td>\n",
              "      <td>-0.059752</td>\n",
              "      <td>378.66</td>\n",
              "      <td>0</td>\n",
              "    </tr>\n",
              "    <tr>\n",
              "      <th>3</th>\n",
              "      <td>1.0</td>\n",
              "      <td>-0.966272</td>\n",
              "      <td>-0.185226</td>\n",
              "      <td>1.792993</td>\n",
              "      <td>-0.863291</td>\n",
              "      <td>-0.010309</td>\n",
              "      <td>1.247203</td>\n",
              "      <td>0.237609</td>\n",
              "      <td>0.377436</td>\n",
              "      <td>-1.387024</td>\n",
              "      <td>-0.054952</td>\n",
              "      <td>-0.226487</td>\n",
              "      <td>0.178228</td>\n",
              "      <td>0.507757</td>\n",
              "      <td>-0.287924</td>\n",
              "      <td>-0.631418</td>\n",
              "      <td>-1.059647</td>\n",
              "      <td>-0.684093</td>\n",
              "      <td>1.965775</td>\n",
              "      <td>-1.232622</td>\n",
              "      <td>-0.208038</td>\n",
              "      <td>-0.108300</td>\n",
              "      <td>0.005274</td>\n",
              "      <td>-0.190321</td>\n",
              "      <td>-1.175575</td>\n",
              "      <td>0.647376</td>\n",
              "      <td>-0.221929</td>\n",
              "      <td>0.062723</td>\n",
              "      <td>0.061458</td>\n",
              "      <td>123.50</td>\n",
              "      <td>0</td>\n",
              "    </tr>\n",
              "    <tr>\n",
              "      <th>4</th>\n",
              "      <td>2.0</td>\n",
              "      <td>-1.158233</td>\n",
              "      <td>0.877737</td>\n",
              "      <td>1.548718</td>\n",
              "      <td>0.403034</td>\n",
              "      <td>-0.407193</td>\n",
              "      <td>0.095921</td>\n",
              "      <td>0.592941</td>\n",
              "      <td>-0.270533</td>\n",
              "      <td>0.817739</td>\n",
              "      <td>0.753074</td>\n",
              "      <td>-0.822843</td>\n",
              "      <td>0.538196</td>\n",
              "      <td>1.345852</td>\n",
              "      <td>-1.119670</td>\n",
              "      <td>0.175121</td>\n",
              "      <td>-0.451449</td>\n",
              "      <td>-0.237033</td>\n",
              "      <td>-0.038195</td>\n",
              "      <td>0.803487</td>\n",
              "      <td>0.408542</td>\n",
              "      <td>-0.009431</td>\n",
              "      <td>0.798278</td>\n",
              "      <td>-0.137458</td>\n",
              "      <td>0.141267</td>\n",
              "      <td>-0.206010</td>\n",
              "      <td>0.502292</td>\n",
              "      <td>0.219422</td>\n",
              "      <td>0.215153</td>\n",
              "      <td>69.99</td>\n",
              "      <td>0</td>\n",
              "    </tr>\n",
              "  </tbody>\n",
              "</table>\n",
              "</div>"
            ],
            "text/plain": [
              "   Time        V1        V2        V3  ...       V27       V28  Amount  Class\n",
              "0   0.0 -1.359807 -0.072781  2.536347  ...  0.133558 -0.021053  149.62      0\n",
              "1   0.0  1.191857  0.266151  0.166480  ... -0.008983  0.014724    2.69      0\n",
              "2   1.0 -1.358354 -1.340163  1.773209  ... -0.055353 -0.059752  378.66      0\n",
              "3   1.0 -0.966272 -0.185226  1.792993  ...  0.062723  0.061458  123.50      0\n",
              "4   2.0 -1.158233  0.877737  1.548718  ...  0.219422  0.215153   69.99      0\n",
              "\n",
              "[5 rows x 31 columns]"
            ]
          },
          "metadata": {
            "tags": []
          },
          "execution_count": 3
        }
      ]
    },
    {
      "cell_type": "code",
      "metadata": {
        "colab": {
          "base_uri": "https://localhost:8080/",
          "height": 0
        },
        "id": "1T69I4J-CAT0",
        "outputId": "2bdeb26e-bcfd-4bea-f101-6cc6ba992747"
      },
      "source": [
        "df.info()"
      ],
      "execution_count": 4,
      "outputs": [
        {
          "output_type": "stream",
          "text": [
            "<class 'pandas.core.frame.DataFrame'>\n",
            "RangeIndex: 284807 entries, 0 to 284806\n",
            "Data columns (total 31 columns):\n",
            " #   Column  Non-Null Count   Dtype  \n",
            "---  ------  --------------   -----  \n",
            " 0   Time    284807 non-null  float64\n",
            " 1   V1      284807 non-null  float64\n",
            " 2   V2      284807 non-null  float64\n",
            " 3   V3      284807 non-null  float64\n",
            " 4   V4      284807 non-null  float64\n",
            " 5   V5      284807 non-null  float64\n",
            " 6   V6      284807 non-null  float64\n",
            " 7   V7      284807 non-null  float64\n",
            " 8   V8      284807 non-null  float64\n",
            " 9   V9      284807 non-null  float64\n",
            " 10  V10     284807 non-null  float64\n",
            " 11  V11     284807 non-null  float64\n",
            " 12  V12     284807 non-null  float64\n",
            " 13  V13     284807 non-null  float64\n",
            " 14  V14     284807 non-null  float64\n",
            " 15  V15     284807 non-null  float64\n",
            " 16  V16     284807 non-null  float64\n",
            " 17  V17     284807 non-null  float64\n",
            " 18  V18     284807 non-null  float64\n",
            " 19  V19     284807 non-null  float64\n",
            " 20  V20     284807 non-null  float64\n",
            " 21  V21     284807 non-null  float64\n",
            " 22  V22     284807 non-null  float64\n",
            " 23  V23     284807 non-null  float64\n",
            " 24  V24     284807 non-null  float64\n",
            " 25  V25     284807 non-null  float64\n",
            " 26  V26     284807 non-null  float64\n",
            " 27  V27     284807 non-null  float64\n",
            " 28  V28     284807 non-null  float64\n",
            " 29  Amount  284807 non-null  float64\n",
            " 30  Class   284807 non-null  int64  \n",
            "dtypes: float64(30), int64(1)\n",
            "memory usage: 67.4 MB\n"
          ],
          "name": "stdout"
        }
      ]
    },
    {
      "cell_type": "code",
      "metadata": {
        "colab": {
          "base_uri": "https://localhost:8080/",
          "height": 0
        },
        "id": "H_AWMCiDDNLl",
        "outputId": "d1fc68fa-dc12-4985-fdbc-a7e00feaa2b0"
      },
      "source": [
        "df.shape"
      ],
      "execution_count": 5,
      "outputs": [
        {
          "output_type": "execute_result",
          "data": {
            "text/plain": [
              "(284807, 31)"
            ]
          },
          "metadata": {
            "tags": []
          },
          "execution_count": 5
        }
      ]
    },
    {
      "cell_type": "markdown",
      "metadata": {
        "id": "ZCpceiMcIIyP"
      },
      "source": [
        "###Class Wise Analysis\n"
      ]
    },
    {
      "cell_type": "code",
      "metadata": {
        "colab": {
          "base_uri": "https://localhost:8080/",
          "height": 0
        },
        "id": "qM0cdMZ4DlOY",
        "outputId": "88cc9ed0-49a9-4c21-870f-7f3c11e96580"
      },
      "source": [
        "normal = df[df['Class']==0]\n",
        "fraud  = df[df['Class']==1]\n",
        "print(\"Normal DataPoints: \",normal.shape[0])\n",
        "print(\"Fraud DataPoints:  \", fraud.shape[0])"
      ],
      "execution_count": 13,
      "outputs": [
        {
          "output_type": "stream",
          "text": [
            "Normal DataPoints:  284315\n",
            "Fraud DataPoints:   492\n"
          ],
          "name": "stdout"
        }
      ]
    },
    {
      "cell_type": "code",
      "metadata": {
        "colab": {
          "base_uri": "https://localhost:8080/",
          "height": 369
        },
        "id": "QjO5RiYTET-D",
        "outputId": "9dca3667-d0a3-461e-b633-cd306cd06110"
      },
      "source": [
        "print((\"Distribution of fraudulent points: {:.2f}%\".format(len(df[df['Class']==1])/len(df)*100)))\n",
        "sns.countplot(df['Class'])\n",
        "plt.title('Class Distribution')\n",
        "plt.xticks(range(2),['Normal','Fraud'])\n",
        "plt.show()"
      ],
      "execution_count": 14,
      "outputs": [
        {
          "output_type": "stream",
          "text": [
            "Distribution of fraudulent points: 0.17%\n"
          ],
          "name": "stdout"
        },
        {
          "output_type": "stream",
          "text": [
            "/usr/local/lib/python3.7/dist-packages/seaborn/_decorators.py:43: FutureWarning: Pass the following variable as a keyword arg: x. From version 0.12, the only valid positional argument will be `data`, and passing other arguments without an explicit keyword will result in an error or misinterpretation.\n",
            "  FutureWarning\n"
          ],
          "name": "stderr"
        },
        {
          "output_type": "display_data",
          "data": {
            "image/png": "[encoded data removed]",
            "text/plain": [
              "<Figure size 432x288 with 1 Axes>"
            ]
          },
          "metadata": {
            "tags": [],
            "needs_background": "light"
          }
        }
      ]
    },
    {
      "cell_type": "code",
      "metadata": {
        "colab": {
          "base_uri": "https://localhost:8080/",
          "height": 308
        },
        "id": "7EAJ3Py5F0J_",
        "outputId": "6c390b60-5206-495b-ab9b-e028bdcd4fe0"
      },
      "source": [
        "df.describe()"
      ],
      "execution_count": 15,
      "outputs": [
        {
          "output_type": "execute_result",
          "data": {
            "text/html": [
              "<div>\n",
              "<style scoped>\n",
              "    .dataframe tbody tr th:only-of-type {\n",
              "        vertical-align: middle;\n",
              "    }\n",
              "\n",
              "    .dataframe tbody tr th {\n",
              "        vertical-align: top;\n",
              "    }\n",
              "\n",
              "    .dataframe thead th {\n",
              "        text-align: right;\n",
              "    }\n",
              "</style>\n",
              "<table border=\"1\" class=\"dataframe\">\n",
              "  <thead>\n",
              "    <tr style=\"text-align: right;\">\n",
              "      <th></th>\n",
              "      <th>Time</th>\n",
              "      <th>V1</th>\n",
              "      <th>V2</th>\n",
              "      <th>V3</th>\n",
              "      <th>V4</th>\n",
              "      <th>V5</th>\n",
              "      <th>V6</th>\n",
              "      <th>V7</th>\n",
              "      <th>V8</th>\n",
              "      <th>V9</th>\n",
              "      <th>V10</th>\n",
              "      <th>V11</th>\n",
              "      <th>V12</th>\n",
              "      <th>V13</th>\n",
              "      <th>V14</th>\n",
              "      <th>V15</th>\n",
              "      <th>V16</th>\n",
              "      <th>V17</th>\n",
              "      <th>V18</th>\n",
              "      <th>V19</th>\n",
              "      <th>V20</th>\n",
              "      <th>V21</th>\n",
              "      <th>V22</th>\n",
              "      <th>V23</th>\n",
              "      <th>V24</th>\n",
              "      <th>V25</th>\n",
              "      <th>V26</th>\n",
              "      <th>V27</th>\n",
              "      <th>V28</th>\n",
              "      <th>Amount</th>\n",
              "      <th>Class</th>\n",
              "    </tr>\n",
              "  </thead>\n",
              "  <tbody>\n",
              "    <tr>\n",
              "      <th>count</th>\n",
              "      <td>284807.000000</td>\n",
              "      <td>2.848070e+05</td>\n",
              "      <td>2.848070e+05</td>\n",
              "      <td>2.848070e+05</td>\n",
              "      <td>2.848070e+05</td>\n",
              "      <td>2.848070e+05</td>\n",
              "      <td>2.848070e+05</td>\n",
              "      <td>2.848070e+05</td>\n",
              "      <td>2.848070e+05</td>\n",
              "      <td>2.848070e+05</td>\n",
              "      <td>2.848070e+05</td>\n",
              "      <td>2.848070e+05</td>\n",
              "      <td>2.848070e+05</td>\n",
              "      <td>2.848070e+05</td>\n",
              "      <td>2.848070e+05</td>\n",
              "      <td>2.848070e+05</td>\n",
              "      <td>2.848070e+05</td>\n",
              "      <td>2.848070e+05</td>\n",
              "      <td>2.848070e+05</td>\n",
              "      <td>2.848070e+05</td>\n",
              "      <td>2.848070e+05</td>\n",
              "      <td>2.848070e+05</td>\n",
              "      <td>2.848070e+05</td>\n",
              "      <td>2.848070e+05</td>\n",
              "      <td>2.848070e+05</td>\n",
              "      <td>2.848070e+05</td>\n",
              "      <td>2.848070e+05</td>\n",
              "      <td>2.848070e+05</td>\n",
              "      <td>2.848070e+05</td>\n",
              "      <td>284807.000000</td>\n",
              "      <td>284807.000000</td>\n",
              "    </tr>\n",
              "    <tr>\n",
              "      <th>mean</th>\n",
              "      <td>94813.859575</td>\n",
              "      <td>3.919560e-15</td>\n",
              "      <td>5.688174e-16</td>\n",
              "      <td>-8.769071e-15</td>\n",
              "      <td>2.782312e-15</td>\n",
              "      <td>-1.552563e-15</td>\n",
              "      <td>2.010663e-15</td>\n",
              "      <td>-1.694249e-15</td>\n",
              "      <td>-1.927028e-16</td>\n",
              "      <td>-3.137024e-15</td>\n",
              "      <td>1.768627e-15</td>\n",
              "      <td>9.170318e-16</td>\n",
              "      <td>-1.810658e-15</td>\n",
              "      <td>1.693438e-15</td>\n",
              "      <td>1.479045e-15</td>\n",
              "      <td>3.482336e-15</td>\n",
              "      <td>1.392007e-15</td>\n",
              "      <td>-7.528491e-16</td>\n",
              "      <td>4.328772e-16</td>\n",
              "      <td>9.049732e-16</td>\n",
              "      <td>5.085503e-16</td>\n",
              "      <td>1.537294e-16</td>\n",
              "      <td>7.959909e-16</td>\n",
              "      <td>5.367590e-16</td>\n",
              "      <td>4.458112e-15</td>\n",
              "      <td>1.453003e-15</td>\n",
              "      <td>1.699104e-15</td>\n",
              "      <td>-3.660161e-16</td>\n",
              "      <td>-1.206049e-16</td>\n",
              "      <td>88.349619</td>\n",
              "      <td>0.001727</td>\n",
              "    </tr>\n",
              "    <tr>\n",
              "      <th>std</th>\n",
              "      <td>47488.145955</td>\n",
              "      <td>1.958696e+00</td>\n",
              "      <td>1.651309e+00</td>\n",
              "      <td>1.516255e+00</td>\n",
              "      <td>1.415869e+00</td>\n",
              "      <td>1.380247e+00</td>\n",
              "      <td>1.332271e+00</td>\n",
              "      <td>1.237094e+00</td>\n",
              "      <td>1.194353e+00</td>\n",
              "      <td>1.098632e+00</td>\n",
              "      <td>1.088850e+00</td>\n",
              "      <td>1.020713e+00</td>\n",
              "      <td>9.992014e-01</td>\n",
              "      <td>9.952742e-01</td>\n",
              "      <td>9.585956e-01</td>\n",
              "      <td>9.153160e-01</td>\n",
              "      <td>8.762529e-01</td>\n",
              "      <td>8.493371e-01</td>\n",
              "      <td>8.381762e-01</td>\n",
              "      <td>8.140405e-01</td>\n",
              "      <td>7.709250e-01</td>\n",
              "      <td>7.345240e-01</td>\n",
              "      <td>7.257016e-01</td>\n",
              "      <td>6.244603e-01</td>\n",
              "      <td>6.056471e-01</td>\n",
              "      <td>5.212781e-01</td>\n",
              "      <td>4.822270e-01</td>\n",
              "      <td>4.036325e-01</td>\n",
              "      <td>3.300833e-01</td>\n",
              "      <td>250.120109</td>\n",
              "      <td>0.041527</td>\n",
              "    </tr>\n",
              "    <tr>\n",
              "      <th>min</th>\n",
              "      <td>0.000000</td>\n",
              "      <td>-5.640751e+01</td>\n",
              "      <td>-7.271573e+01</td>\n",
              "      <td>-4.832559e+01</td>\n",
              "      <td>-5.683171e+00</td>\n",
              "      <td>-1.137433e+02</td>\n",
              "      <td>-2.616051e+01</td>\n",
              "      <td>-4.355724e+01</td>\n",
              "      <td>-7.321672e+01</td>\n",
              "      <td>-1.343407e+01</td>\n",
              "      <td>-2.458826e+01</td>\n",
              "      <td>-4.797473e+00</td>\n",
              "      <td>-1.868371e+01</td>\n",
              "      <td>-5.791881e+00</td>\n",
              "      <td>-1.921433e+01</td>\n",
              "      <td>-4.498945e+00</td>\n",
              "      <td>-1.412985e+01</td>\n",
              "      <td>-2.516280e+01</td>\n",
              "      <td>-9.498746e+00</td>\n",
              "      <td>-7.213527e+00</td>\n",
              "      <td>-5.449772e+01</td>\n",
              "      <td>-3.483038e+01</td>\n",
              "      <td>-1.093314e+01</td>\n",
              "      <td>-4.480774e+01</td>\n",
              "      <td>-2.836627e+00</td>\n",
              "      <td>-1.029540e+01</td>\n",
              "      <td>-2.604551e+00</td>\n",
              "      <td>-2.256568e+01</td>\n",
              "      <td>-1.543008e+01</td>\n",
              "      <td>0.000000</td>\n",
              "      <td>0.000000</td>\n",
              "    </tr>\n",
              "    <tr>\n",
              "      <th>25%</th>\n",
              "      <td>54201.500000</td>\n",
              "      <td>-9.203734e-01</td>\n",
              "      <td>-5.985499e-01</td>\n",
              "      <td>-8.903648e-01</td>\n",
              "      <td>-8.486401e-01</td>\n",
              "      <td>-6.915971e-01</td>\n",
              "      <td>-7.682956e-01</td>\n",
              "      <td>-5.540759e-01</td>\n",
              "      <td>-2.086297e-01</td>\n",
              "      <td>-6.430976e-01</td>\n",
              "      <td>-5.354257e-01</td>\n",
              "      <td>-7.624942e-01</td>\n",
              "      <td>-4.055715e-01</td>\n",
              "      <td>-6.485393e-01</td>\n",
              "      <td>-4.255740e-01</td>\n",
              "      <td>-5.828843e-01</td>\n",
              "      <td>-4.680368e-01</td>\n",
              "      <td>-4.837483e-01</td>\n",
              "      <td>-4.988498e-01</td>\n",
              "      <td>-4.562989e-01</td>\n",
              "      <td>-2.117214e-01</td>\n",
              "      <td>-2.283949e-01</td>\n",
              "      <td>-5.423504e-01</td>\n",
              "      <td>-1.618463e-01</td>\n",
              "      <td>-3.545861e-01</td>\n",
              "      <td>-3.171451e-01</td>\n",
              "      <td>-3.269839e-01</td>\n",
              "      <td>-7.083953e-02</td>\n",
              "      <td>-5.295979e-02</td>\n",
              "      <td>5.600000</td>\n",
              "      <td>0.000000</td>\n",
              "    </tr>\n",
              "    <tr>\n",
              "      <th>50%</th>\n",
              "      <td>84692.000000</td>\n",
              "      <td>1.810880e-02</td>\n",
              "      <td>6.548556e-02</td>\n",
              "      <td>1.798463e-01</td>\n",
              "      <td>-1.984653e-02</td>\n",
              "      <td>-5.433583e-02</td>\n",
              "      <td>-2.741871e-01</td>\n",
              "      <td>4.010308e-02</td>\n",
              "      <td>2.235804e-02</td>\n",
              "      <td>-5.142873e-02</td>\n",
              "      <td>-9.291738e-02</td>\n",
              "      <td>-3.275735e-02</td>\n",
              "      <td>1.400326e-01</td>\n",
              "      <td>-1.356806e-02</td>\n",
              "      <td>5.060132e-02</td>\n",
              "      <td>4.807155e-02</td>\n",
              "      <td>6.641332e-02</td>\n",
              "      <td>-6.567575e-02</td>\n",
              "      <td>-3.636312e-03</td>\n",
              "      <td>3.734823e-03</td>\n",
              "      <td>-6.248109e-02</td>\n",
              "      <td>-2.945017e-02</td>\n",
              "      <td>6.781943e-03</td>\n",
              "      <td>-1.119293e-02</td>\n",
              "      <td>4.097606e-02</td>\n",
              "      <td>1.659350e-02</td>\n",
              "      <td>-5.213911e-02</td>\n",
              "      <td>1.342146e-03</td>\n",
              "      <td>1.124383e-02</td>\n",
              "      <td>22.000000</td>\n",
              "      <td>0.000000</td>\n",
              "    </tr>\n",
              "    <tr>\n",
              "      <th>75%</th>\n",
              "      <td>139320.500000</td>\n",
              "      <td>1.315642e+00</td>\n",
              "      <td>8.037239e-01</td>\n",
              "      <td>1.027196e+00</td>\n",
              "      <td>7.433413e-01</td>\n",
              "      <td>6.119264e-01</td>\n",
              "      <td>3.985649e-01</td>\n",
              "      <td>5.704361e-01</td>\n",
              "      <td>3.273459e-01</td>\n",
              "      <td>5.971390e-01</td>\n",
              "      <td>4.539234e-01</td>\n",
              "      <td>7.395934e-01</td>\n",
              "      <td>6.182380e-01</td>\n",
              "      <td>6.625050e-01</td>\n",
              "      <td>4.931498e-01</td>\n",
              "      <td>6.488208e-01</td>\n",
              "      <td>5.232963e-01</td>\n",
              "      <td>3.996750e-01</td>\n",
              "      <td>5.008067e-01</td>\n",
              "      <td>4.589494e-01</td>\n",
              "      <td>1.330408e-01</td>\n",
              "      <td>1.863772e-01</td>\n",
              "      <td>5.285536e-01</td>\n",
              "      <td>1.476421e-01</td>\n",
              "      <td>4.395266e-01</td>\n",
              "      <td>3.507156e-01</td>\n",
              "      <td>2.409522e-01</td>\n",
              "      <td>9.104512e-02</td>\n",
              "      <td>7.827995e-02</td>\n",
              "      <td>77.165000</td>\n",
              "      <td>0.000000</td>\n",
              "    </tr>\n",
              "    <tr>\n",
              "      <th>max</th>\n",
              "      <td>172792.000000</td>\n",
              "      <td>2.454930e+00</td>\n",
              "      <td>2.205773e+01</td>\n",
              "      <td>9.382558e+00</td>\n",
              "      <td>1.687534e+01</td>\n",
              "      <td>3.480167e+01</td>\n",
              "      <td>7.330163e+01</td>\n",
              "      <td>1.205895e+02</td>\n",
              "      <td>2.000721e+01</td>\n",
              "      <td>1.559499e+01</td>\n",
              "      <td>2.374514e+01</td>\n",
              "      <td>1.201891e+01</td>\n",
              "      <td>7.848392e+00</td>\n",
              "      <td>7.126883e+00</td>\n",
              "      <td>1.052677e+01</td>\n",
              "      <td>8.877742e+00</td>\n",
              "      <td>1.731511e+01</td>\n",
              "      <td>9.253526e+00</td>\n",
              "      <td>5.041069e+00</td>\n",
              "      <td>5.591971e+00</td>\n",
              "      <td>3.942090e+01</td>\n",
              "      <td>2.720284e+01</td>\n",
              "      <td>1.050309e+01</td>\n",
              "      <td>2.252841e+01</td>\n",
              "      <td>4.584549e+00</td>\n",
              "      <td>7.519589e+00</td>\n",
              "      <td>3.517346e+00</td>\n",
              "      <td>3.161220e+01</td>\n",
              "      <td>3.384781e+01</td>\n",
              "      <td>25691.160000</td>\n",
              "      <td>1.000000</td>\n",
              "    </tr>\n",
              "  </tbody>\n",
              "</table>\n",
              "</div>"
            ],
            "text/plain": [
              "                Time            V1  ...         Amount          Class\n",
              "count  284807.000000  2.848070e+05  ...  284807.000000  284807.000000\n",
              "mean    94813.859575  3.919560e-15  ...      88.349619       0.001727\n",
              "std     47488.145955  1.958696e+00  ...     250.120109       0.041527\n",
              "min         0.000000 -5.640751e+01  ...       0.000000       0.000000\n",
              "25%     54201.500000 -9.203734e-01  ...       5.600000       0.000000\n",
              "50%     84692.000000  1.810880e-02  ...      22.000000       0.000000\n",
              "75%    139320.500000  1.315642e+00  ...      77.165000       0.000000\n",
              "max    172792.000000  2.454930e+00  ...   25691.160000       1.000000\n",
              "\n",
              "[8 rows x 31 columns]"
            ]
          },
          "metadata": {
            "tags": []
          },
          "execution_count": 15
        }
      ]
    },
    {
      "cell_type": "code",
      "metadata": {
        "colab": {
          "base_uri": "https://localhost:8080/",
          "height": 0
        },
        "id": "m5-_FDkvGrID",
        "outputId": "01d7d102-f6e5-43c6-947c-c18a8e6c2821"
      },
      "source": [
        "normal['Amount'].describe()"
      ],
      "execution_count": 16,
      "outputs": [
        {
          "output_type": "execute_result",
          "data": {
            "text/plain": [
              "count    284315.000000\n",
              "mean         88.291022\n",
              "std         250.105092\n",
              "min           0.000000\n",
              "25%           5.650000\n",
              "50%          22.000000\n",
              "75%          77.050000\n",
              "max       25691.160000\n",
              "Name: Amount, dtype: float64"
            ]
          },
          "metadata": {
            "tags": []
          },
          "execution_count": 16
        }
      ]
    },
    {
      "cell_type": "code",
      "metadata": {
        "colab": {
          "base_uri": "https://localhost:8080/",
          "height": 0
        },
        "id": "cCuOQkCIG0jj",
        "outputId": "2f7f0ad0-014c-4534-f819-2897e0dc63fa"
      },
      "source": [
        "fraud['Amount'].describe()"
      ],
      "execution_count": 17,
      "outputs": [
        {
          "output_type": "execute_result",
          "data": {
            "text/plain": [
              "count     492.000000\n",
              "mean      122.211321\n",
              "std       256.683288\n",
              "min         0.000000\n",
              "25%         1.000000\n",
              "50%         9.250000\n",
              "75%       105.890000\n",
              "max      2125.870000\n",
              "Name: Amount, dtype: float64"
            ]
          },
          "metadata": {
            "tags": []
          },
          "execution_count": 17
        }
      ]
    },
    {
      "cell_type": "code",
      "metadata": {
        "colab": {
          "base_uri": "https://localhost:8080/",
          "height": 677
        },
        "id": "1q2C1oIEHLmw",
        "outputId": "8cb7136b-9844-4fc9-af1a-f2716bd34efd"
      },
      "source": [
        "f, (ax1, ax2) = plt.subplots(2, 1, sharex=True, figsize = (10,10) )\n",
        "f.suptitle('Amount per transaction by class')\n",
        "\n",
        "bins = 10\n",
        "\n",
        "ax1.hist(fraud.Amount, bins = bins)\n",
        "ax1.set_title('Fraud')\n",
        "\n",
        "ax2.hist(normal.Amount, bins = bins)\n",
        "ax2.set_title('Normal')\n",
        "\n",
        "ax1.grid()\n",
        "ax2.grid()\n",
        "plt.xlabel('Amount ($)')\n",
        "plt.ylabel('Number of Transactions')\n",
        "plt.xlim((0, 20000))\n",
        "plt.yscale('log')\n",
        "plt.show();"
      ],
      "execution_count": 18,
      "outputs": [
        {
          "output_type": "display_data",
          "data": {
            "image/png": "[encoded data removed]",
            "text/plain": [
              "<Figure size 720x720 with 2 Axes>"
            ]
          },
          "metadata": {
            "tags": [],
            "needs_background": "light"
          }
        }
      ]
    },
    {
      "cell_type": "code",
      "metadata": {
        "colab": {
          "base_uri": "https://localhost:8080/",
          "height": 677
        },
        "id": "040GV5yqHxTn",
        "outputId": "e42930e3-4673-479d-dc51-842446d262a6"
      },
      "source": [
        "f, (ax1, ax2) = plt.subplots(2, 1, sharex=True, figsize=(10,10))\n",
        "f.suptitle('Time of transaction vs Amount by class')\n",
        "\n",
        "ax1.scatter(fraud.Time, fraud.Amount, marker='.')\n",
        "ax1.set_title('Fraud')\n",
        "ax1.grid()\n",
        "ax2.scatter(normal.Time, normal.Amount, marker='.')\n",
        "ax2.set_title('Normal')\n",
        "ax2.grid()\n",
        "plt.xlabel('Time (in Seconds)')\n",
        "plt.ylabel('Amount')\n",
        "plt.show()"
      ],
      "execution_count": 20,
      "outputs": [
        {
          "output_type": "display_data",
          "data": {
            "image/png": "[encoded data removed]",
            "text/plain": [
              "<Figure size 720x720 with 2 Axes>"
            ]
          },
          "metadata": {
            "tags": [],
            "needs_background": "light"
          }
        }
      ]
    },
    {
      "cell_type": "markdown",
      "metadata": {
        "id": "V-GCAeZfIleu"
      },
      "source": [
        "###Data Modelling"
      ]
    },
    {
      "cell_type": "code",
      "metadata": {
        "id": "1PT1VTtVIrC2"
      },
      "source": [
        "data = df.drop(['Time'], axis =1)"
      ],
      "execution_count": 21,
      "outputs": []
    },
    {
      "cell_type": "code",
      "metadata": {
        "colab": {
          "base_uri": "https://localhost:8080/",
          "height": 0
        },
        "id": "f-zUA011JTgA",
        "outputId": "8a4f5979-70a3-4922-e2f4-03d73bb6587d"
      },
      "source": [
        "X_train, X_test = train_test_split(data, test_size=0.2, random_state=42)\n",
        "X_train = X_train[X_train.Class == 0]\n",
        "X_train = X_train.drop(['Class'], axis=1)\n",
        "y_test = X_test['Class']\n",
        "X_test = X_test.drop(['Class'], axis=1)\n",
        "X_train = X_train\n",
        "X_test = X_test\n",
        "print(X_train.shape)\n",
        "\n",
        "print(X_test.shape)\n",
        "print(y_test.shape)"
      ],
      "execution_count": 22,
      "outputs": [
        {
          "output_type": "stream",
          "text": [
            "(227451, 29)\n",
            "(56962, 29)\n",
            "(56962,)\n"
          ],
          "name": "stdout"
        }
      ]
    },
    {
      "cell_type": "code",
      "metadata": {
        "id": "UktDD7VNKOKE"
      },
      "source": [
        "scaler = StandardScaler().fit(X_train.Amount.values.reshape(-1,1))\n",
        "X_train['Amount'] = scaler.transform(X_train.Amount.values.reshape(-1,1))\n",
        "X_test['Amount'] = scaler.transform(X_test.Amount.values.reshape(-1,1))"
      ],
      "execution_count": 23,
      "outputs": []
    },
    {
      "cell_type": "code",
      "metadata": {
        "colab": {
          "base_uri": "https://localhost:8080/",
          "height": 0
        },
        "id": "5D7RjNDPKfXe",
        "outputId": "9418adfb-d33e-44bb-c2f1-b900a3d268b6"
      },
      "source": [
        "X_train.shape"
      ],
      "execution_count": 24,
      "outputs": [
        {
          "output_type": "execute_result",
          "data": {
            "text/plain": [
              "(227451, 29)"
            ]
          },
          "metadata": {
            "tags": []
          },
          "execution_count": 24
        }
      ]
    },
    {
      "cell_type": "markdown",
      "metadata": {
        "id": "jP4CFAQBKofw"
      },
      "source": [
        "###Model Training:"
      ]
    },
    {
      "cell_type": "code",
      "metadata": {
        "id": "JvMvHUQhKm_x"
      },
      "source": [
        "from keras.layers import Input, Dense\n",
        "from keras import regularizers\n",
        "from keras.models import Model, load_model\n",
        "from keras.callbacks import ModelCheckpoint, TensorBoard"
      ],
      "execution_count": 25,
      "outputs": []
    },
    {
      "cell_type": "code",
      "metadata": {
        "id": "5d6n4hcCK6O0"
      },
      "source": [
        "input_dim = X_train.shape[1]\n",
        "encoding_dim = 14"
      ],
      "execution_count": 26,
      "outputs": []
    },
    {
      "cell_type": "code",
      "metadata": {
        "id": "9gIRVK_UK_tv"
      },
      "source": [
        "input_layer = Input(shape=(input_dim,))\n",
        "encoder = Dense(encoding_dim, activation=\"tanh\", \n",
        "                activity_regularizer=regularizers.l1(10e-5))(input_layer)\n",
        "encoder = Dense(int(encoding_dim / 2), activation=\"relu\")(encoder)\n",
        "\n",
        "decoder = Dense(int(encoding_dim / 2), activation='tanh')(encoder)\n",
        "decoder = Dense(input_dim, activation='relu')(decoder)\n",
        "\n",
        "autoencoder = Model(inputs=input_layer, outputs=decoder)"
      ],
      "execution_count": 27,
      "outputs": []
    },
    {
      "cell_type": "code",
      "metadata": {
        "colab": {
          "base_uri": "https://localhost:8080/"
        },
        "id": "SHOuHQ1SLJaE",
        "outputId": "bf9f0335-31e1-4b64-9fd9-460a111a80ff"
      },
      "source": [
        "X_train.shape"
      ],
      "execution_count": null,
      "outputs": [
        {
          "output_type": "execute_result",
          "data": {
            "text/plain": [
              "(227451, 29)"
            ]
          },
          "metadata": {
            "tags": []
          },
          "execution_count": 39
        }
      ]
    },
    {
      "cell_type": "code",
      "metadata": {
        "colab": {
          "base_uri": "https://localhost:8080/",
          "height": 0
        },
        "id": "IrncPrhqLM_9",
        "outputId": "4ffd90cb-8fad-410d-ccdd-0a3b5d78166a"
      },
      "source": [
        "nb_epoch = 100\n",
        "batch_size = 32\n",
        "\n",
        "autoencoder.compile(optimizer='adam', \n",
        "                    loss='mean_squared_error', \n",
        "                    )\n",
        "\n",
        "checkpointer = ModelCheckpoint(filepath=\"model.h5\",\n",
        "                               verbose=0,\n",
        "                               save_best_only=True)\n",
        "tensorboard = TensorBoard(log_dir='./logs',\n",
        "                          histogram_freq=0,\n",
        "                          write_graph=True,\n",
        "                          write_images=True)\n",
        "\n",
        "history = autoencoder.fit(X_train, X_train,\n",
        "                    epochs=nb_epoch,\n",
        "                    batch_size=batch_size,\n",
        "                    shuffle=True,\n",
        "                    validation_split=0.3,\n",
        "                    verbose=1,\n",
        "                    callbacks=[checkpointer, tensorboard]).history"
      ],
      "execution_count": 28,
      "outputs": [
        {
          "output_type": "stream",
          "text": [
            "Epoch 1/100\n",
            "4976/4976 [==============================] - 10s 2ms/step - loss: 0.8892 - val_loss: 0.8401\n",
            "Epoch 2/100\n",
            "4976/4976 [==============================] - 9s 2ms/step - loss: 0.7873 - val_loss: 0.8066\n",
            "Epoch 3/100\n",
            "4976/4976 [==============================] - 9s 2ms/step - loss: 0.7519 - val_loss: 0.7907\n",
            "Epoch 4/100\n",
            "4976/4976 [==============================] - 9s 2ms/step - loss: 0.7410 - val_loss: 0.7828\n",
            "Epoch 5/100\n",
            "4976/4976 [==============================] - 9s 2ms/step - loss: 0.7224 - val_loss: 0.7798\n",
            "Epoch 6/100\n",
            "4976/4976 [==============================] - 9s 2ms/step - loss: 0.7395 - val_loss: 0.7763\n",
            "Epoch 7/100\n",
            "4976/4976 [==============================] - 9s 2ms/step - loss: 0.7210 - val_loss: 0.7776\n",
            "Epoch 8/100\n",
            "4976/4976 [==============================] - 9s 2ms/step - loss: 0.7075 - val_loss: 0.7723\n",
            "Epoch 9/100\n",
            "4976/4976 [==============================] - 9s 2ms/step - loss: 0.7235 - val_loss: 0.7709\n",
            "Epoch 10/100\n",
            "4976/4976 [==============================] - 9s 2ms/step - loss: 0.7153 - val_loss: 0.7697\n",
            "Epoch 11/100\n",
            "4976/4976 [==============================] - 9s 2ms/step - loss: 0.7218 - val_loss: 0.7693\n",
            "Epoch 12/100\n",
            "4976/4976 [==============================] - 9s 2ms/step - loss: 0.7290 - val_loss: 0.7669\n",
            "Epoch 13/100\n",
            "4976/4976 [==============================] - 9s 2ms/step - loss: 0.7274 - val_loss: 0.7676\n",
            "Epoch 14/100\n",
            "4976/4976 [==============================] - 9s 2ms/step - loss: 0.7152 - val_loss: 0.7755\n",
            "Epoch 15/100\n",
            "4976/4976 [==============================] - 9s 2ms/step - loss: 0.7238 - val_loss: 0.7665\n",
            "Epoch 16/100\n",
            "4976/4976 [==============================] - 9s 2ms/step - loss: 0.7219 - val_loss: 0.7666\n",
            "Epoch 17/100\n",
            "4976/4976 [==============================] - 9s 2ms/step - loss: 0.7088 - val_loss: 0.7652\n",
            "Epoch 18/100\n",
            "4976/4976 [==============================] - 9s 2ms/step - loss: 0.7241 - val_loss: 0.7638\n",
            "Epoch 19/100\n",
            "4976/4976 [==============================] - 9s 2ms/step - loss: 0.7205 - val_loss: 0.7626\n",
            "Epoch 20/100\n",
            "4976/4976 [==============================] - 9s 2ms/step - loss: 0.7327 - val_loss: 0.7632\n",
            "Epoch 21/100\n",
            "4976/4976 [==============================] - 9s 2ms/step - loss: 0.7147 - val_loss: 0.7610\n",
            "Epoch 22/100\n",
            "4976/4976 [==============================] - 9s 2ms/step - loss: 0.7140 - val_loss: 0.7616\n",
            "Epoch 23/100\n",
            "4976/4976 [==============================] - 9s 2ms/step - loss: 0.7091 - val_loss: 0.7620\n",
            "Epoch 24/100\n",
            "4976/4976 [==============================] - 9s 2ms/step - loss: 0.7031 - val_loss: 0.7607\n",
            "Epoch 25/100\n",
            "4976/4976 [==============================] - 9s 2ms/step - loss: 0.7152 - val_loss: 0.7613\n",
            "Epoch 26/100\n",
            "4976/4976 [==============================] - 9s 2ms/step - loss: 0.7054 - val_loss: 0.7607\n",
            "Epoch 27/100\n",
            "4976/4976 [==============================] - 9s 2ms/step - loss: 0.7090 - val_loss: 0.7604\n",
            "Epoch 28/100\n",
            "4976/4976 [==============================] - 9s 2ms/step - loss: 0.7201 - val_loss: 0.7618\n",
            "Epoch 29/100\n",
            "4976/4976 [==============================] - 9s 2ms/step - loss: 0.7200 - val_loss: 0.7599\n",
            "Epoch 30/100\n",
            "4976/4976 [==============================] - 9s 2ms/step - loss: 0.7194 - val_loss: 0.7606\n",
            "Epoch 31/100\n",
            "4976/4976 [==============================] - 9s 2ms/step - loss: 0.7164 - val_loss: 0.7595\n",
            "Epoch 32/100\n",
            "4976/4976 [==============================] - 9s 2ms/step - loss: 0.7297 - val_loss: 0.7585\n",
            "Epoch 33/100\n",
            "4976/4976 [==============================] - 9s 2ms/step - loss: 0.7225 - val_loss: 0.7603\n",
            "Epoch 34/100\n",
            "4976/4976 [==============================] - 9s 2ms/step - loss: 0.7168 - val_loss: 0.7595\n",
            "Epoch 35/100\n",
            "4976/4976 [==============================] - 9s 2ms/step - loss: 0.7267 - val_loss: 0.7589\n",
            "Epoch 36/100\n",
            "4976/4976 [==============================] - 9s 2ms/step - loss: 0.7138 - val_loss: 0.7596\n",
            "Epoch 37/100\n",
            "4976/4976 [==============================] - 9s 2ms/step - loss: 0.6972 - val_loss: 0.7578\n",
            "Epoch 38/100\n",
            "4976/4976 [==============================] - 9s 2ms/step - loss: 0.7062 - val_loss: 0.7588\n",
            "Epoch 39/100\n",
            "4976/4976 [==============================] - 9s 2ms/step - loss: 0.7189 - val_loss: 0.7581\n",
            "Epoch 40/100\n",
            "4976/4976 [==============================] - 9s 2ms/step - loss: 0.7049 - val_loss: 0.7584\n",
            "Epoch 41/100\n",
            "4976/4976 [==============================] - 9s 2ms/step - loss: 0.7093 - val_loss: 0.7593\n",
            "Epoch 42/100\n",
            "4976/4976 [==============================] - 9s 2ms/step - loss: 0.7133 - val_loss: 0.7579\n",
            "Epoch 43/100\n",
            "4976/4976 [==============================] - 9s 2ms/step - loss: 0.7236 - val_loss: 0.7587\n",
            "Epoch 44/100\n",
            "4976/4976 [==============================] - 9s 2ms/step - loss: 0.7048 - val_loss: 0.7600\n",
            "Epoch 45/100\n",
            "4976/4976 [==============================] - 9s 2ms/step - loss: 0.7185 - val_loss: 0.7576\n",
            "Epoch 46/100\n",
            "4976/4976 [==============================] - 9s 2ms/step - loss: 0.7060 - val_loss: 0.7579\n",
            "Epoch 47/100\n",
            "4976/4976 [==============================] - 9s 2ms/step - loss: 0.7213 - val_loss: 0.7574\n",
            "Epoch 48/100\n",
            "4976/4976 [==============================] - 9s 2ms/step - loss: 0.7134 - val_loss: 0.7576\n",
            "Epoch 49/100\n",
            "4976/4976 [==============================] - 9s 2ms/step - loss: 0.7065 - val_loss: 0.7569\n",
            "Epoch 50/100\n",
            "4976/4976 [==============================] - 9s 2ms/step - loss: 0.7178 - val_loss: 0.7566\n",
            "Epoch 51/100\n",
            "4976/4976 [==============================] - 9s 2ms/step - loss: 0.7035 - val_loss: 0.7570\n",
            "Epoch 52/100\n",
            "4976/4976 [==============================] - 9s 2ms/step - loss: 0.7065 - val_loss: 0.7572\n",
            "Epoch 53/100\n",
            "4976/4976 [==============================] - 9s 2ms/step - loss: 0.7077 - val_loss: 0.7569\n",
            "Epoch 54/100\n",
            "4976/4976 [==============================] - 9s 2ms/step - loss: 0.7038 - val_loss: 0.7585\n",
            "Epoch 55/100\n",
            "4976/4976 [==============================] - 9s 2ms/step - loss: 0.7169 - val_loss: 0.7572\n",
            "Epoch 56/100\n",
            "4976/4976 [==============================] - 9s 2ms/step - loss: 0.7100 - val_loss: 0.7566\n",
            "Epoch 57/100\n",
            "4976/4976 [==============================] - 9s 2ms/step - loss: 0.7080 - val_loss: 0.7569\n",
            "Epoch 58/100\n",
            "4976/4976 [==============================] - 9s 2ms/step - loss: 0.7041 - val_loss: 0.7567\n",
            "Epoch 59/100\n",
            "4976/4976 [==============================] - 9s 2ms/step - loss: 0.7046 - val_loss: 0.7576\n",
            "Epoch 60/100\n",
            "4976/4976 [==============================] - 9s 2ms/step - loss: 0.7195 - val_loss: 0.7593\n",
            "Epoch 61/100\n",
            "4976/4976 [==============================] - 9s 2ms/step - loss: 0.7025 - val_loss: 0.7587\n",
            "Epoch 62/100\n",
            "4976/4976 [==============================] - 9s 2ms/step - loss: 0.7161 - val_loss: 0.7577\n",
            "Epoch 63/100\n",
            "4976/4976 [==============================] - 9s 2ms/step - loss: 0.7092 - val_loss: 0.7568\n",
            "Epoch 64/100\n",
            "4976/4976 [==============================] - 9s 2ms/step - loss: 0.7095 - val_loss: 0.7573\n",
            "Epoch 65/100\n",
            "4976/4976 [==============================] - 9s 2ms/step - loss: 0.7226 - val_loss: 0.7566\n",
            "Epoch 66/100\n",
            "4976/4976 [==============================] - 9s 2ms/step - loss: 0.7048 - val_loss: 0.7588\n",
            "Epoch 67/100\n",
            "4976/4976 [==============================] - 9s 2ms/step - loss: 0.7193 - val_loss: 0.7553\n",
            "Epoch 68/100\n",
            "4976/4976 [==============================] - 9s 2ms/step - loss: 0.7058 - val_loss: 0.7578\n",
            "Epoch 69/100\n",
            "4976/4976 [==============================] - 9s 2ms/step - loss: 0.7136 - val_loss: 0.7566\n",
            "Epoch 70/100\n",
            "4976/4976 [==============================] - 9s 2ms/step - loss: 0.6967 - val_loss: 0.7560\n",
            "Epoch 71/100\n",
            "4976/4976 [==============================] - 9s 2ms/step - loss: 0.7048 - val_loss: 0.7605\n",
            "Epoch 72/100\n",
            "4976/4976 [==============================] - 9s 2ms/step - loss: 0.7281 - val_loss: 0.7574\n",
            "Epoch 73/100\n",
            "4976/4976 [==============================] - 9s 2ms/step - loss: 0.7128 - val_loss: 0.7562\n",
            "Epoch 74/100\n",
            "4976/4976 [==============================] - 9s 2ms/step - loss: 0.7192 - val_loss: 0.7596\n",
            "Epoch 75/100\n",
            "4976/4976 [==============================] - 9s 2ms/step - loss: 0.7252 - val_loss: 0.7577\n",
            "Epoch 76/100\n",
            "4976/4976 [==============================] - 9s 2ms/step - loss: 0.7127 - val_loss: 0.7569\n",
            "Epoch 77/100\n",
            "4976/4976 [==============================] - 9s 2ms/step - loss: 0.7097 - val_loss: 0.7575\n",
            "Epoch 78/100\n",
            "4976/4976 [==============================] - 9s 2ms/step - loss: 0.7232 - val_loss: 0.7555\n",
            "Epoch 79/100\n",
            "4976/4976 [==============================] - 9s 2ms/step - loss: 0.7115 - val_loss: 0.7571\n",
            "Epoch 80/100\n",
            "4976/4976 [==============================] - 9s 2ms/step - loss: 0.7079 - val_loss: 0.7569\n",
            "Epoch 81/100\n",
            "4976/4976 [==============================] - 9s 2ms/step - loss: 0.7166 - val_loss: 0.7567\n",
            "Epoch 82/100\n",
            "4976/4976 [==============================] - 9s 2ms/step - loss: 0.6990 - val_loss: 0.7559\n",
            "Epoch 83/100\n",
            "4976/4976 [==============================] - 9s 2ms/step - loss: 0.7076 - val_loss: 0.7551\n",
            "Epoch 84/100\n",
            "4976/4976 [==============================] - 9s 2ms/step - loss: 0.7138 - val_loss: 0.7580\n",
            "Epoch 85/100\n",
            "4976/4976 [==============================] - 9s 2ms/step - loss: 0.6995 - val_loss: 0.7548\n",
            "Epoch 86/100\n",
            "4976/4976 [==============================] - 9s 2ms/step - loss: 0.7210 - val_loss: 0.7568\n",
            "Epoch 87/100\n",
            "4976/4976 [==============================] - 9s 2ms/step - loss: 0.7051 - val_loss: 0.7565\n",
            "Epoch 88/100\n",
            "4976/4976 [==============================] - 9s 2ms/step - loss: 0.7047 - val_loss: 0.7556\n",
            "Epoch 89/100\n",
            "4976/4976 [==============================] - 9s 2ms/step - loss: 0.7150 - val_loss: 0.7561\n",
            "Epoch 90/100\n",
            "4976/4976 [==============================] - 9s 2ms/step - loss: 0.7182 - val_loss: 0.7573\n",
            "Epoch 91/100\n",
            "4976/4976 [==============================] - 9s 2ms/step - loss: 0.7085 - val_loss: 0.7559\n",
            "Epoch 92/100\n",
            "4976/4976 [==============================] - 9s 2ms/step - loss: 0.6983 - val_loss: 0.7565\n",
            "Epoch 93/100\n",
            "4976/4976 [==============================] - 9s 2ms/step - loss: 0.7151 - val_loss: 0.7564\n",
            "Epoch 94/100\n",
            "4976/4976 [==============================] - 9s 2ms/step - loss: 0.7019 - val_loss: 0.7580\n",
            "Epoch 95/100\n",
            "4976/4976 [==============================] - 9s 2ms/step - loss: 0.7164 - val_loss: 0.7575\n",
            "Epoch 96/100\n",
            "4976/4976 [==============================] - 9s 2ms/step - loss: 0.7134 - val_loss: 0.7559\n",
            "Epoch 97/100\n",
            "4976/4976 [==============================] - 9s 2ms/step - loss: 0.7133 - val_loss: 0.7560\n",
            "Epoch 98/100\n",
            "4976/4976 [==============================] - 9s 2ms/step - loss: 0.7241 - val_loss: 0.7556\n",
            "Epoch 99/100\n",
            "4976/4976 [==============================] - 9s 2ms/step - loss: 0.7231 - val_loss: 0.7565\n",
            "Epoch 100/100\n",
            "4976/4976 [==============================] - 9s 2ms/step - loss: 0.7033 - val_loss: 0.7554\n"
          ],
          "name": "stdout"
        }
      ]
    },
    {
      "cell_type": "code",
      "metadata": {
        "colab": {
          "base_uri": "https://localhost:8080/",
          "height": 350
        },
        "id": "1IiLIapDOxVQ",
        "outputId": "c0fdb892-ebbc-4d7d-df1f-a5f983585741"
      },
      "source": [
        "plt.figure(figsize = (10,5))\n",
        "plt.plot(history['loss'], label = 'Training Loss')\n",
        "plt.plot(history['val_loss'], label = 'CV Loss')\n",
        "plt.title(\"Model Loss\")\n",
        "plt.xlabel('Epochs')\n",
        "plt.ylabel('Loss')\n",
        "plt.grid()\n",
        "plt.legend()\n",
        "plt.show()"
      ],
      "execution_count": 29,
      "outputs": [
        {
          "output_type": "display_data",
          "data": {
            "image/png": "[encoded data removed]",
            "text/plain": [
              "<Figure size 720x360 with 1 Axes>"
            ]
          },
          "metadata": {
            "tags": [],
            "needs_background": "light"
          }
        }
      ]
    },
    {
      "cell_type": "code",
      "metadata": {
        "id": "wk52SLCVO0AY"
      },
      "source": [
        "autoencoder = load_model('model.h5')"
      ],
      "execution_count": 30,
      "outputs": []
    },
    {
      "cell_type": "markdown",
      "metadata": {
        "id": "oQKQ-kOdPEkR"
      },
      "source": [
        "###Model Evaluation:"
      ]
    },
    {
      "cell_type": "code",
      "metadata": {
        "id": "_FwIAbuDPCT3"
      },
      "source": [
        "predictions = autoencoder.predict(X_test)"
      ],
      "execution_count": 92,
      "outputs": []
    },
    {
      "cell_type": "code",
      "metadata": {
        "colab": {
          "base_uri": "https://localhost:8080/",
          "height": 0
        },
        "id": "08BZXWFyPvtC",
        "outputId": "81c62cc9-bb7f-494a-e6aa-6462ef717492"
      },
      "source": [
        "predictions.shape\n"
      ],
      "execution_count": 93,
      "outputs": [
        {
          "output_type": "execute_result",
          "data": {
            "text/plain": [
              "(56962, 29)"
            ]
          },
          "metadata": {
            "tags": []
          },
          "execution_count": 93
        }
      ]
    },
    {
      "cell_type": "code",
      "metadata": {
        "colab": {
          "base_uri": "https://localhost:8080/",
          "height": 168
        },
        "id": "O6aS4fuRP1pz",
        "outputId": "97627416-607c-4220-97e3-be86693401b0"
      },
      "source": [
        "mse = np.mean(np.power(X_test - predictions, 2), axis=1)\n",
        "error_df = pd.DataFrame({'reconstruction_error': mse, 'true_class':y_test})\n",
        "error_df.groupby(['true_class']).describe()"
      ],
      "execution_count": 94,
      "outputs": [
        {
          "output_type": "execute_result",
          "data": {
            "text/html": [
              "<div>\n",
              "<style scoped>\n",
              "    .dataframe tbody tr th:only-of-type {\n",
              "        vertical-align: middle;\n",
              "    }\n",
              "\n",
              "    .dataframe tbody tr th {\n",
              "        vertical-align: top;\n",
              "    }\n",
              "\n",
              "    .dataframe thead tr th {\n",
              "        text-align: left;\n",
              "    }\n",
              "\n",
              "    .dataframe thead tr:last-of-type th {\n",
              "        text-align: right;\n",
              "    }\n",
              "</style>\n",
              "<table border=\"1\" class=\"dataframe\">\n",
              "  <thead>\n",
              "    <tr>\n",
              "      <th></th>\n",
              "      <th colspan=\"8\" halign=\"left\">reconstruction_error</th>\n",
              "    </tr>\n",
              "    <tr>\n",
              "      <th></th>\n",
              "      <th>count</th>\n",
              "      <th>mean</th>\n",
              "      <th>std</th>\n",
              "      <th>min</th>\n",
              "      <th>25%</th>\n",
              "      <th>50%</th>\n",
              "      <th>75%</th>\n",
              "      <th>max</th>\n",
              "    </tr>\n",
              "    <tr>\n",
              "      <th>true_class</th>\n",
              "      <th></th>\n",
              "      <th></th>\n",
              "      <th></th>\n",
              "      <th></th>\n",
              "      <th></th>\n",
              "      <th></th>\n",
              "      <th></th>\n",
              "      <th></th>\n",
              "    </tr>\n",
              "  </thead>\n",
              "  <tbody>\n",
              "    <tr>\n",
              "      <th>0</th>\n",
              "      <td>56864.0</td>\n",
              "      <td>0.706228</td>\n",
              "      <td>2.525618</td>\n",
              "      <td>0.061031</td>\n",
              "      <td>0.277163</td>\n",
              "      <td>0.428408</td>\n",
              "      <td>0.640654</td>\n",
              "      <td>157.282851</td>\n",
              "    </tr>\n",
              "    <tr>\n",
              "      <th>1</th>\n",
              "      <td>98.0</td>\n",
              "      <td>31.693478</td>\n",
              "      <td>46.630970</td>\n",
              "      <td>0.185752</td>\n",
              "      <td>4.269231</td>\n",
              "      <td>11.268983</td>\n",
              "      <td>52.293795</td>\n",
              "      <td>264.172410</td>\n",
              "    </tr>\n",
              "  </tbody>\n",
              "</table>\n",
              "</div>"
            ],
            "text/plain": [
              "           reconstruction_error             ...                       \n",
              "                          count       mean  ...        75%         max\n",
              "true_class                                  ...                       \n",
              "0                       56864.0   0.706228  ...   0.640654  157.282851\n",
              "1                          98.0  31.693478  ...  52.293795  264.172410\n",
              "\n",
              "[2 rows x 8 columns]"
            ]
          },
          "metadata": {
            "tags": []
          },
          "execution_count": 94
        }
      ]
    },
    {
      "cell_type": "code",
      "metadata": {
        "colab": {
          "base_uri": "https://localhost:8080/",
          "height": 375
        },
        "id": "xDMudUAJP86k",
        "outputId": "f90bb3ed-2f38-4391-cf99-41ca1b7c9230"
      },
      "source": [
        "sns.distplot(error_df[error_df['true_class']==0]['reconstruction_error'], bins = 5, label = 'Normal')\n",
        "sns.distplot(error_df[error_df['true_class']==1]['reconstruction_error'], bins=5, label = 'Fraud')\n",
        "plt.legend()\n",
        "plt.show()"
      ],
      "execution_count": 95,
      "outputs": [
        {
          "output_type": "stream",
          "text": [
            "/usr/local/lib/python3.7/dist-packages/seaborn/distributions.py:2557: FutureWarning: `distplot` is a deprecated function and will be removed in a future version. Please adapt your code to use either `displot` (a figure-level function with similar flexibility) or `histplot` (an axes-level function for histograms).\n",
            "  warnings.warn(msg, FutureWarning)\n",
            "/usr/local/lib/python3.7/dist-packages/seaborn/distributions.py:2557: FutureWarning: `distplot` is a deprecated function and will be removed in a future version. Please adapt your code to use either `displot` (a figure-level function with similar flexibility) or `histplot` (an axes-level function for histograms).\n",
            "  warnings.warn(msg, FutureWarning)\n"
          ],
          "name": "stderr"
        },
        {
          "output_type": "display_data",
          "data": {
            "image/png": "[encoded data removed]",
            "text/plain": [
              "<Figure size 432x288 with 1 Axes>"
            ]
          },
          "metadata": {
            "tags": [],
            "needs_background": "light"
          }
        }
      ]
    },
    {
      "cell_type": "code",
      "metadata": {
        "id": "RuzdUtLOQaq6"
      },
      "source": [
        "from sklearn.metrics import (confusion_matrix, precision_recall_curve, auc,\n",
        "                             roc_curve, recall_score, classification_report, f1_score,\n",
        "                             precision_recall_fscore_support, roc_auc_score)"
      ],
      "execution_count": 96,
      "outputs": []
    },
    {
      "cell_type": "code",
      "metadata": {
        "id": "NlIfxVYxQd9B"
      },
      "source": [
        "threshold = 2"
      ],
      "execution_count": 97,
      "outputs": []
    },
    {
      "cell_type": "code",
      "metadata": {
        "colab": {
          "base_uri": "https://localhost:8080/",
          "height": 513
        },
        "id": "Opq8FK5IQgfR",
        "outputId": "1b68d2e7-186c-4794-d205-7b776268bb46"
      },
      "source": [
        "groups = error_df.groupby('true_class')\n",
        "fig, ax = plt.subplots(figsize = (20,8))\n",
        "\n",
        "for name, group in groups:\n",
        "    ax.plot(group.index, group.reconstruction_error, marker='+', ms=10, linestyle='',\n",
        "            label= \"Fraud\" if name == 1 else \"Normal\")\n",
        "ax.hlines(threshold, ax.get_xlim()[0], ax.get_xlim()[1], colors=\"r\", zorder=100, label='Threshold')\n",
        "ax.legend()\n",
        "plt.title(\"Reconstruction error for different classes\")\n",
        "plt.ylabel(\"Reconstruction error\")\n",
        "plt.xlabel(\"Data point index\")\n",
        "plt.grid()\n",
        "plt.show();"
      ],
      "execution_count": 98,
      "outputs": [
        {
          "output_type": "display_data",
          "data": {
            "image/png": "[encoded data removed]",
            "text/plain": [
              "<Figure size 1440x576 with 1 Axes>"
            ]
          },
          "metadata": {
            "tags": [],
            "needs_background": "light"
          }
        }
      ]
    },
    {
      "cell_type": "code",
      "metadata": {
        "colab": {
          "base_uri": "https://localhost:8080/",
          "height": 295
        },
        "id": "HTN4Aq1tQjaE",
        "outputId": "d88bec58-ad9b-4ced-f104-7498c4919d51"
      },
      "source": [
        "fpr, tpr, thres = roc_curve(error_df.true_class, error_df.reconstruction_error)\n",
        "plt.plot(fpr, tpr, label = 'AUC') \n",
        "plt.plot([0,1], [0,1], ':', label = 'Random') \n",
        "plt.legend() \n",
        "plt.grid() \n",
        "plt.ylabel(\"TPR\") \n",
        "plt.xlabel(\"FPR\") \n",
        "plt.title('ROC') \n",
        "plt.show() "
      ],
      "execution_count": 99,
      "outputs": [
        {
          "output_type": "display_data",
          "data": {
            "image/png": "[encoded data removed]",
            "text/plain": [
              "<Figure size 432x288 with 1 Axes>"
            ]
          },
          "metadata": {
            "tags": [],
            "needs_background": "light"
          }
        }
      ]
    },
    {
      "cell_type": "code",
      "metadata": {
        "colab": {
          "base_uri": "https://localhost:8080/",
          "height": 295
        },
        "id": "nTb-pnRMQnLb",
        "outputId": "aecfd1b7-ab62-4fbf-953a-3ec7a19fabea"
      },
      "source": [
        "LABELS = ['Normal', 'Fraud']\n",
        "threshold = 2\n",
        "y_pred = [1 if e > threshold else 0 for e in error_df.reconstruction_error.values]\n",
        "conf_matrix = confusion_matrix(error_df.true_class, y_pred)\n",
        "sns.heatmap(conf_matrix, xticklabels=LABELS, yticklabels=LABELS, annot=True, fmt=\"d\", cmap='Greens');\n",
        "plt.title(\"Confusion matrix\")\n",
        "plt.ylabel('True class')\n",
        "plt.xlabel('Predicted class')\n",
        "plt.show()"
      ],
      "execution_count": 100,
      "outputs": [
        {
          "output_type": "display_data",
          "data": {
            "image/png": "[encoded data removed]",
            "text/plain": [
              "<Figure size 432x288 with 2 Axes>"
            ]
          },
          "metadata": {
            "tags": [],
            "needs_background": "light"
          }
        }
      ]
    },
    {
      "cell_type": "code",
      "metadata": {
        "colab": {
          "base_uri": "https://localhost:8080/",
          "height": 0
        },
        "id": "N7lxHu1eQyzJ",
        "outputId": "12fb9637-2167-4dc8-a480-7ab994d38948"
      },
      "source": [
        "print(\"Area under ROC : \", roc_auc_score(error_df.true_class,y_pred ))"
      ],
      "execution_count": 101,
      "outputs": [
        {
          "output_type": "stream",
          "text": [
            "Area under ROC :  0.9060242555097447\n"
          ],
          "name": "stdout"
        }
      ]
    },
    {
      "cell_type": "code",
      "metadata": {
        "colab": {
          "base_uri": "https://localhost:8080/",
          "height": 0
        },
        "id": "hCRQLgxnQ4sY",
        "outputId": "a4990d8a-b93e-4651-e256-33f61ce7e647"
      },
      "source": [
        "print(classification_report(error_df.true_class,y_pred))"
      ],
      "execution_count": 102,
      "outputs": [
        {
          "output_type": "stream",
          "text": [
            "              precision    recall  f1-score   support\n",
            "\n",
            "           0       1.00      0.97      0.98     56864\n",
            "           1       0.04      0.85      0.08        98\n",
            "\n",
            "    accuracy                           0.96     56962\n",
            "   macro avg       0.52      0.91      0.53     56962\n",
            "weighted avg       1.00      0.96      0.98     56962\n",
            "\n"
          ],
          "name": "stdout"
        }
      ]
    },
    {
      "cell_type": "code",
      "metadata": {
        "colab": {
          "base_uri": "https://localhost:8080/",
          "height": 0
        },
        "id": "vgSUKlaHE0jp",
        "outputId": "d47004b3-a700-4ea7-d1e9-822b06eb0d0a"
      },
      "source": [
        "print(\"INPUT:\")\n",
        "print(X_test.iloc[1])\n",
        "z=X_test.iloc[[1]]\n",
        "prediction=autoencoder.predict(z)\n",
        "print(\"\\nAUTOENCODER OUTPUT:\")\n",
        "print(prediction)\n",
        "\n",
        "mset=np.mean(np.power(z-prediction,2),axis=1)\n",
        "print(\"AFTER CALCULATING RECONSTRUCTING ERROr WITH MSE :\\n if (reconstruction_error > threshold):\\n\\t Fraud,\\n else:\\n\\t normal transaction\")\n",
        "print(mset)"
      ],
      "execution_count": 83,
      "outputs": [
        {
          "output_type": "stream",
          "text": [
            "INPUT:\n",
            "V1        0.339812\n",
            "V2       -2.743745\n",
            "V3       -0.134070\n",
            "V4       -1.385729\n",
            "V5       -1.451413\n",
            "V6        1.015887\n",
            "V7       -0.524379\n",
            "V8        0.224060\n",
            "V9        0.899746\n",
            "V10      -0.565012\n",
            "V11      -0.087670\n",
            "V12       0.979427\n",
            "V13       0.076883\n",
            "V14      -0.217884\n",
            "V15      -0.136830\n",
            "V16      -2.142892\n",
            "V17       0.126956\n",
            "V18       1.752662\n",
            "V19       0.432546\n",
            "V20       0.506044\n",
            "V21      -0.213436\n",
            "V22      -0.942525\n",
            "V23      -0.526819\n",
            "V24      -1.156992\n",
            "V25       0.311211\n",
            "V26      -0.746647\n",
            "V27       0.040996\n",
            "V28       0.102038\n",
            "Amount    1.693166\n",
            "Name: 49906, dtype: float64\n",
            "\n",
            "AUTOENCODER OUTPUT:\n",
            "[[0.         0.         0.         0.         0.         1.1093647\n",
            "  0.         0.         0.93837786 0.         0.         0.\n",
            "  0.3775134  0.         0.         0.         0.         1.1749479\n",
            "  0.         0.         0.         0.         0.         0.\n",
            "  0.         0.         0.         0.         2.3275394 ]]\n",
            "AFTER CALCULATING RECONSTRUCTING ERROr WITH MSE :\n",
            " if (reconstruction_error > threshold):\n",
            "\t Fraud,\n",
            " else:\n",
            "\t normal transaction\n",
            "49906    0.774848\n",
            "dtype: float64\n"
          ],
          "name": "stdout"
        }
      ]
    },
    {
      "cell_type": "code",
      "metadata": {
        "id": "jAUL3zmtLxit",
        "outputId": "699825ff-336b-4039-e18f-d8224d1ec8f5",
        "colab": {
          "base_uri": "https://localhost:8080/",
          "height": 449
        }
      },
      "source": [
        "LABELS = ['Normal', 'Fraud']\n",
        "threshold = 2.9\n",
        "y_pred = [1 if e > threshold else 0 for e in error_df.reconstruction_error.values]\n",
        "conf_matrix = confusion_matrix(error_df.true_class, y_pred)\n",
        "sns.heatmap(conf_matrix, xticklabels=LABELS, yticklabels=LABELS, annot=True, fmt=\"d\", cmap='Greens');\n",
        "plt.title(\"Confusion matrix\")\n",
        "plt.ylabel('True class')\n",
        "plt.xlabel('Predicted class')\n",
        "plt.show()\n",
        "print(classification_report(error_df.true_class,y_pred))"
      ],
      "execution_count": 105,
      "outputs": [
        {
          "output_type": "display_data",
          "data": {
            "image/png": "[encoded data removed]",
            "text/plain": [
              "<Figure size 432x288 with 2 Axes>"
            ]
          },
          "metadata": {
            "tags": [],
            "needs_background": "light"
          }
        },
        {
          "output_type": "stream",
          "text": [
            "              precision    recall  f1-score   support\n",
            "\n",
            "           0       1.00      0.98      0.99     56864\n",
            "           1       0.06      0.81      0.11        98\n",
            "\n",
            "    accuracy                           0.98     56962\n",
            "   macro avg       0.53      0.89      0.55     56962\n",
            "weighted avg       1.00      0.98      0.99     56962\n",
            "\n"
          ],
          "name": "stdout"
        }
      ]
    },
    {
      "cell_type": "code",
      "metadata": {
        "id": "sQCRvWFuNGyK",
        "outputId": "9c6c1863-ee21-4ea9-8b76-1e874313fa0a",
        "colab": {
          "base_uri": "https://localhost:8080/",
          "height": 449
        }
      },
      "source": [
        "\n",
        "LABELS = ['Normal', 'Fraud']\n",
        "threshold = 3.1\n",
        "y_pred = [1 if e > threshold else 0 for e in error_df.reconstruction_error.values]\n",
        "conf_matrix = confusion_matrix(error_df.true_class, y_pred)\n",
        "sns.heatmap(conf_matrix, xticklabels=LABELS, yticklabels=LABELS, annot=True, fmt=\"d\", cmap='Greens');\n",
        "plt.title(\"Confusion matrix\")\n",
        "plt.ylabel('True class')\n",
        "plt.xlabel('Predicted class')\n",
        "plt.show()\n",
        "print(classification_report(error_df.true_class,y_pred))"
      ],
      "execution_count": 106,
      "outputs": [
        {
          "output_type": "display_data",
          "data": {
            "image/png": "[encoded data removed]",
            "text/plain": [
              "<Figure size 432x288 with 2 Axes>"
            ]
          },
          "metadata": {
            "tags": [],
            "needs_background": "light"
          }
        },
        {
          "output_type": "stream",
          "text": [
            "              precision    recall  f1-score   support\n",
            "\n",
            "           0       1.00      0.98      0.99     56864\n",
            "           1       0.06      0.81      0.12        98\n",
            "\n",
            "    accuracy                           0.98     56962\n",
            "   macro avg       0.53      0.89      0.55     56962\n",
            "weighted avg       1.00      0.98      0.99     56962\n",
            "\n"
          ],
          "name": "stdout"
        }
      ]
    }
  ]
}