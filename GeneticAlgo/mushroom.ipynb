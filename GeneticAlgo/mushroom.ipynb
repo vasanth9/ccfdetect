{
  "nbformat": 4,
  "nbformat_minor": 0,
  "metadata": {
    "colab": {
      "name": "mushroom.ipynb",
      "provenance": [],
      "mount_file_id": "15eplsB8UEGsvq56zb4eYGxCS4E-JS7he",
      "authorship_tag": "ABX9TyMXelASSotNbwx9wHIQff6z",
      "include_colab_link": true
    },
    "kernelspec": {
      "name": "python3",
      "display_name": "Python 3"
    }
  },
  "cells": [
    {
      "cell_type": "markdown",
      "metadata": {
        "id": "view-in-github",
        "colab_type": "text"
      },
      "source": [
        "<a href=\"https://colab.research.google.com/github/vasanth9/ccfdetect/blob/master/GeneticAlgo/mushroom.ipynb\" target=\"_parent\"><img src=\"https://colab.research.google.com/assets/colab-badge.svg\" alt=\"Open In Colab\"/></a>"
      ]
    },
    {
      "cell_type": "code",
      "metadata": {
        "id": "c4QZVqg6lVXV"
      },
      "source": [
        "import pandas as pd\n",
        "\n",
        "import warnings\n",
        "warnings.filterwarnings('ignore')\n",
        "\n",
        "from keras.callbacks import EarlyStopping, TensorBoard\n",
        "from keras.layers import Dense\n",
        "from keras.models import Sequential\n",
        "from sklearn.model_selection import train_test_split\n",
        "from sklearn.preprocessing import LabelEncoder, OneHotEncoder\n",
        "from sklearn.preprocessing import StandardScaler\n",
        "\n",
        "from tqdm import tqdm\n",
        "import numpy as np\n",
        "import random\n",
        "import pickle as pkl\n",
        "\n",
        "import matplotlib.pyplot as plt"
      ],
      "execution_count": 6,
      "outputs": []
    },
    {
      "cell_type": "code",
      "metadata": {
        "colab": {
          "base_uri": "https://localhost:8080/",
          "height": 275
        },
        "id": "e2PDU95kkQD4",
        "outputId": "a47daa61-8343-4041-a183-0b69f800b84f"
      },
      "source": [
        "dataset = pd.read_csv('/content/drive/MyDrive/mushrooms.csv')\n",
        "dataset.head()"
      ],
      "execution_count": 7,
      "outputs": [
        {
          "output_type": "execute_result",
          "data": {
            "text/html": [
              "<div>\n",
              "<style scoped>\n",
              "    .dataframe tbody tr th:only-of-type {\n",
              "        vertical-align: middle;\n",
              "    }\n",
              "\n",
              "    .dataframe tbody tr th {\n",
              "        vertical-align: top;\n",
              "    }\n",
              "\n",
              "    .dataframe thead th {\n",
              "        text-align: right;\n",
              "    }\n",
              "</style>\n",
              "<table border=\"1\" class=\"dataframe\">\n",
              "  <thead>\n",
              "    <tr style=\"text-align: right;\">\n",
              "      <th></th>\n",
              "      <th>class</th>\n",
              "      <th>cap-shape</th>\n",
              "      <th>cap-surface</th>\n",
              "      <th>cap-color</th>\n",
              "      <th>bruises</th>\n",
              "      <th>odor</th>\n",
              "      <th>gill-attachment</th>\n",
              "      <th>gill-spacing</th>\n",
              "      <th>gill-size</th>\n",
              "      <th>gill-color</th>\n",
              "      <th>stalk-shape</th>\n",
              "      <th>stalk-root</th>\n",
              "      <th>stalk-surface-above-ring</th>\n",
              "      <th>stalk-surface-below-ring</th>\n",
              "      <th>stalk-color-above-ring</th>\n",
              "      <th>stalk-color-below-ring</th>\n",
              "      <th>veil-type</th>\n",
              "      <th>veil-color</th>\n",
              "      <th>ring-number</th>\n",
              "      <th>ring-type</th>\n",
              "      <th>spore-print-color</th>\n",
              "      <th>population</th>\n",
              "      <th>habitat</th>\n",
              "    </tr>\n",
              "  </thead>\n",
              "  <tbody>\n",
              "    <tr>\n",
              "      <th>0</th>\n",
              "      <td>p</td>\n",
              "      <td>x</td>\n",
              "      <td>s</td>\n",
              "      <td>n</td>\n",
              "      <td>t</td>\n",
              "      <td>p</td>\n",
              "      <td>f</td>\n",
              "      <td>c</td>\n",
              "      <td>n</td>\n",
              "      <td>k</td>\n",
              "      <td>e</td>\n",
              "      <td>e</td>\n",
              "      <td>s</td>\n",
              "      <td>s</td>\n",
              "      <td>w</td>\n",
              "      <td>w</td>\n",
              "      <td>p</td>\n",
              "      <td>w</td>\n",
              "      <td>o</td>\n",
              "      <td>p</td>\n",
              "      <td>k</td>\n",
              "      <td>s</td>\n",
              "      <td>u</td>\n",
              "    </tr>\n",
              "    <tr>\n",
              "      <th>1</th>\n",
              "      <td>e</td>\n",
              "      <td>x</td>\n",
              "      <td>s</td>\n",
              "      <td>y</td>\n",
              "      <td>t</td>\n",
              "      <td>a</td>\n",
              "      <td>f</td>\n",
              "      <td>c</td>\n",
              "      <td>b</td>\n",
              "      <td>k</td>\n",
              "      <td>e</td>\n",
              "      <td>c</td>\n",
              "      <td>s</td>\n",
              "      <td>s</td>\n",
              "      <td>w</td>\n",
              "      <td>w</td>\n",
              "      <td>p</td>\n",
              "      <td>w</td>\n",
              "      <td>o</td>\n",
              "      <td>p</td>\n",
              "      <td>n</td>\n",
              "      <td>n</td>\n",
              "      <td>g</td>\n",
              "    </tr>\n",
              "    <tr>\n",
              "      <th>2</th>\n",
              "      <td>e</td>\n",
              "      <td>b</td>\n",
              "      <td>s</td>\n",
              "      <td>w</td>\n",
              "      <td>t</td>\n",
              "      <td>l</td>\n",
              "      <td>f</td>\n",
              "      <td>c</td>\n",
              "      <td>b</td>\n",
              "      <td>n</td>\n",
              "      <td>e</td>\n",
              "      <td>c</td>\n",
              "      <td>s</td>\n",
              "      <td>s</td>\n",
              "      <td>w</td>\n",
              "      <td>w</td>\n",
              "      <td>p</td>\n",
              "      <td>w</td>\n",
              "      <td>o</td>\n",
              "      <td>p</td>\n",
              "      <td>n</td>\n",
              "      <td>n</td>\n",
              "      <td>m</td>\n",
              "    </tr>\n",
              "    <tr>\n",
              "      <th>3</th>\n",
              "      <td>p</td>\n",
              "      <td>x</td>\n",
              "      <td>y</td>\n",
              "      <td>w</td>\n",
              "      <td>t</td>\n",
              "      <td>p</td>\n",
              "      <td>f</td>\n",
              "      <td>c</td>\n",
              "      <td>n</td>\n",
              "      <td>n</td>\n",
              "      <td>e</td>\n",
              "      <td>e</td>\n",
              "      <td>s</td>\n",
              "      <td>s</td>\n",
              "      <td>w</td>\n",
              "      <td>w</td>\n",
              "      <td>p</td>\n",
              "      <td>w</td>\n",
              "      <td>o</td>\n",
              "      <td>p</td>\n",
              "      <td>k</td>\n",
              "      <td>s</td>\n",
              "      <td>u</td>\n",
              "    </tr>\n",
              "    <tr>\n",
              "      <th>4</th>\n",
              "      <td>e</td>\n",
              "      <td>x</td>\n",
              "      <td>s</td>\n",
              "      <td>g</td>\n",
              "      <td>f</td>\n",
              "      <td>n</td>\n",
              "      <td>f</td>\n",
              "      <td>w</td>\n",
              "      <td>b</td>\n",
              "      <td>k</td>\n",
              "      <td>t</td>\n",
              "      <td>e</td>\n",
              "      <td>s</td>\n",
              "      <td>s</td>\n",
              "      <td>w</td>\n",
              "      <td>w</td>\n",
              "      <td>p</td>\n",
              "      <td>w</td>\n",
              "      <td>o</td>\n",
              "      <td>e</td>\n",
              "      <td>n</td>\n",
              "      <td>a</td>\n",
              "      <td>g</td>\n",
              "    </tr>\n",
              "  </tbody>\n",
              "</table>\n",
              "</div>"
            ],
            "text/plain": [
              "  class cap-shape cap-surface  ... spore-print-color population habitat\n",
              "0     p         x           s  ...                 k          s       u\n",
              "1     e         x           s  ...                 n          n       g\n",
              "2     e         b           s  ...                 n          n       m\n",
              "3     p         x           y  ...                 k          s       u\n",
              "4     e         x           s  ...                 n          a       g\n",
              "\n",
              "[5 rows x 23 columns]"
            ]
          },
          "metadata": {
            "tags": []
          },
          "execution_count": 7
        }
      ]
    },
    {
      "cell_type": "code",
      "metadata": {
        "id": "g_caI9TvlCXH"
      },
      "source": [
        "y_train = dataset['class']\n",
        "x_train = dataset.drop(labels =['class'],axis=1)\n",
        "\n",
        "ohe = OneHotEncoder()\n",
        "le = LabelEncoder()\n",
        "\n",
        "cols = x_train.columns.values\n",
        "for col in cols:\n",
        "    x_train[col] = le.fit_transform(x_train[col])\n",
        "\n",
        "y_train = le.fit_transform(y_train)\n",
        "\n",
        "ohe = OneHotEncoder()\n",
        "x_train = ohe.fit_transform(x_train).toarray()\n",
        "sc = StandardScaler()\n",
        "x_train = sc.fit_transform(x_train)\n",
        "\n",
        "\n",
        "x_train, x_test, y_train, y_test = train_test_split(x_train,y_train, test_size = 0.30, random_state = 42)\n",
        "x_valid, x_test, y_valid, y_test = train_test_split(x_test,y_test, test_size = 0.50, random_state = 42)"
      ],
      "execution_count": 11,
      "outputs": []
    },
    {
      "cell_type": "code",
      "metadata": {
        "id": "IVpU4lVdmFGa"
      },
      "source": [
        "def sigmoid(x):\n",
        "    return 1/(1 + np.exp(-x)) \n",
        "\n",
        "def relu(x):\n",
        "    return np.maximum(0, x)\n",
        "\n",
        "def forward(x, w, activation):\n",
        "    return activation(np.matmul(x, w))\n",
        "\n",
        "def accuracy_fn(y, y_hat):\n",
        "    return (np.where(y == y_hat)[0].size / y_hat.size)\n",
        "\n",
        "def predict(x, y_hat, weights, activation):\n",
        "    predictions = np.zeros(shape=(x.shape[0]))\n",
        "    \n",
        "    for idx in range(x.shape[0]):\n",
        "        r1 = x[idx, :]\n",
        "        for curr_weights in weights:\n",
        "            r1 = forward(r1, curr_weights, activation)\n",
        "        predictions[idx] = np.where(r1 == np.max(r1))[0][0]\n",
        "\n",
        "    accuracy = accuracy_fn(predictions, y_hat)\n",
        "    return accuracy, predictions\n",
        "    \n",
        "def fitness(x, y_hat, weights, activation):\n",
        "    accuracy = np.empty(shape=(weights.shape[0]))\n",
        "    for idx in range(weights.shape[0]):\n",
        "        accuracy[idx], _ = predict(x, y_hat, weights[idx, :], activation)\n",
        "    return accuracy"
      ],
      "execution_count": 12,
      "outputs": []
    },
    {
      "cell_type": "code",
      "metadata": {
        "id": "UFS3A55pmI-A"
      },
      "source": [
        "def mat_to_vector(mat_pop_weights):\n",
        "    weights_vector = []\n",
        "    for idx in range(mat_pop_weights.shape[0]):\n",
        "        curr_vector = []\n",
        "        for layer_idx in range(mat_pop_weights.shape[1]):\n",
        "            vector_weights = np.reshape(mat_pop_weights[idx, layer_idx], newshape=(mat_pop_weights[idx, layer_idx].size))\n",
        "            curr_vector.extend(vector_weights)\n",
        "        weights_vector.append(curr_vector)\n",
        "    return np.array(weights_vector)\n",
        "\n",
        "\n",
        "def vector_to_mat(vector_weights, mat_pop_weights):\n",
        "    mat_weights = []\n",
        "    for idx in range(mat_pop_weights.shape[0]):\n",
        "        start = 0\n",
        "        end = 0\n",
        "        for layer_idx in range(mat_pop_weights.shape[1]):\n",
        "            end = end + mat_pop_weights[idx, layer_idx].size\n",
        "            curr_vector = vector_weights[idx, start:end]\n",
        "            mat_layer_weights = np.reshape(curr_vector, newshape=(mat_pop_weights[idx, layer_idx].shape))\n",
        "            mat_weights.append(mat_layer_weights)\n",
        "            start = end\n",
        "    return np.reshape(mat_weights, newshape=mat_pop_weights.shape)"
      ],
      "execution_count": 13,
      "outputs": []
    },
    {
      "cell_type": "code",
      "metadata": {
        "id": "NtFeVZb4mP1Y"
      },
      "source": [
        "def mating_pool(pop, fitness, num_parents):\n",
        "    parents = np.empty((num_parents, pop.shape[1]))\n",
        "    for parent_num in range(num_parents):\n",
        "        max_fitness_idx = np.where(fitness == np.max(fitness))\n",
        "        max_fitness_idx = max_fitness_idx[0][0]\n",
        "        parents[parent_num, :] = pop[max_fitness_idx, :]\n",
        "        fitness[max_fitness_idx] = -99\n",
        "    return parents\n",
        "\n",
        "\n",
        "def crossover(parents, offspring_size):\n",
        "    offspring = np.empty(offspring_size)\n",
        "    crossover_point = np.uint32(offspring_size[1]/2)\n",
        "\n",
        "    for k in range(offspring_size[0]):\n",
        "        \n",
        "        parent1_idx = k%parents.shape[0]\n",
        "        parent2_idx = (k+1)%parents.shape[0]\n",
        "        \n",
        "        offspring[k, 0:crossover_point] = parents[parent1_idx, 0:crossover_point]\n",
        "        offspring[k, crossover_point:] = parents[parent2_idx, crossover_point:]\n",
        "        \n",
        "    return offspring\n",
        "\n",
        "\n",
        "def mutation(offspring_crossover, mutation_percent):\n",
        "    num_mutations = np.uint32((mutation_percent*offspring_crossover.shape[1]))\n",
        "    mutation_indices = np.array(random.sample(range(0, offspring_crossover.shape[1]), num_mutations))\n",
        "    \n",
        "    for idx in range(offspring_crossover.shape[0]):\n",
        "        random_value = np.random.uniform(-1.0, 1.0, 1)\n",
        "        offspring_crossover[idx, mutation_indices] = offspring_crossover[idx, mutation_indices] + random_value\n",
        "    \n",
        "    return offspring_crossover"
      ],
      "execution_count": 14,
      "outputs": []
    },
    {
      "cell_type": "code",
      "metadata": {
        "id": "11aAWVPymS13"
      },
      "source": [
        "solution_per_population = 8\n",
        "num_parents_mating = 4\n",
        "num_generations = 100\n",
        "mutation_percent = 0.20"
      ],
      "execution_count": 15,
      "outputs": []
    },
    {
      "cell_type": "code",
      "metadata": {
        "id": "LBnorVcwmV1T"
      },
      "source": [
        "input_shape = x_train.shape[1]\n",
        "output_shape = len(np.unique(y_train))"
      ],
      "execution_count": 16,
      "outputs": []
    },
    {
      "cell_type": "code",
      "metadata": {
        "id": "hfajT_p4mZPt"
      },
      "source": [
        "initial_weights = []\n",
        "for curr_sol in np.arange(0, solution_per_population):\n",
        "    \n",
        "    w1 = np.random.uniform(low=-0.1, high=0.1, size=(input_shape, 128))\n",
        "    w2 = np.random.uniform(low=-0.1, high=0.1, size=(128, 64))\n",
        "    w3 = np.random.uniform(low=-0.1, high=0.1,size=(64, output_shape))\n",
        "\n",
        "    initial_weights.append(np.array([w1, w2, w3]))"
      ],
      "execution_count": 17,
      "outputs": []
    },
    {
      "cell_type": "code",
      "metadata": {
        "id": "I9ZvCUJ-meTB"
      },
      "source": [
        "weights_mat = np.array(initial_weights)\n",
        "weights_vector = mat_to_vector(weights_mat)\n",
        "\n",
        "best_outputs = []\n",
        "accuracies = np.empty(shape=(num_generations))\n"
      ],
      "execution_count": 18,
      "outputs": []
    },
    {
      "cell_type": "code",
      "metadata": {
        "colab": {
          "base_uri": "https://localhost:8080/"
        },
        "id": "GnKNdj4hmgTZ",
        "outputId": "b70e957f-8d92-4e3f-b072-5e5b59104f5f"
      },
      "source": [
        "for generation in tqdm(range(num_generations)):\n",
        "\n",
        "    # vector to matrix\n",
        "    weights_mat = vector_to_mat(weights_vector, weights_mat)\n",
        "\n",
        "    # fitness of the population\n",
        "    fit = fitness(x_train, y_train, weights_mat, activation=sigmoid)\n",
        "    \n",
        "    # assign first fitness to the array\n",
        "    accuracies[generation] = fit[0]\n",
        "\n",
        "    # selecting mating parents from pool\n",
        "    parents = mating_pool(weights_vector, fit.copy(), num_parents_mating)\n",
        "\n",
        "    # generate new population using crossover\n",
        "    offspring_crossover = crossover(parents, offspring_size=(weights_vector.shape[0]-parents.shape[0], weights_vector.shape[1]))\n",
        "\n",
        "    # adding mutation to the population\n",
        "    offspring_mutation = mutation(offspring_crossover, mutation_percent=mutation_percent)\n",
        "    \n",
        "    # new population combining parents of crossver and mut\n",
        "    weights_vector[0:parents.shape[0], :] = parents\n",
        "    weights_vector[parents.shape[0]:, :] = offspring_mutation"
      ],
      "execution_count": 19,
      "outputs": [
        {
          "output_type": "stream",
          "text": [
            "100%|██████████| 100/100 [07:05<00:00,  4.25s/it]\n"
          ],
          "name": "stderr"
        }
      ]
    },
    {
      "cell_type": "code",
      "metadata": {
        "colab": {
          "base_uri": "https://localhost:8080/"
        },
        "id": "q5slyLk2mrRA",
        "outputId": "5e730793-f348-40c6-8717-7cab2cab609b"
      },
      "source": [
        "weights_mat = vector_to_mat(weights_vector, weights_mat)\n",
        "best_weights = weights_mat [0, :]\n",
        "acc, predictions = predict(x_train, y_train, best_weights, sigmoid)\n",
        "print(\"Accuracy of the best solution is : \", acc)"
      ],
      "execution_count": 20,
      "outputs": [
        {
          "output_type": "stream",
          "text": [
            "Accuracy of the best solution is :  0.8440028139289483\n"
          ],
          "name": "stdout"
        }
      ]
    },
    {
      "cell_type": "code",
      "metadata": {
        "colab": {
          "base_uri": "https://localhost:8080/",
          "height": 288
        },
        "id": "MJvy92hamu1U",
        "outputId": "433fa642-6114-4954-cc58-91963a468fa4"
      },
      "source": [
        "plt.plot(accuracies)\n",
        "plt.xlabel(\"Iteration\", fontsize=15)\n",
        "plt.ylabel(\"Fitness\", fontsize=15)\n",
        "plt.xticks(np.arange(0, num_generations+1, 100))\n",
        "plt.yticks(np.arange(0, 1, 0.1))\n",
        "plt.show()"
      ],
      "execution_count": 21,
      "outputs": [
        {
          "output_type": "display_data",
          "data": {
            "image/png": "[encoded data removed]",
            "text/plain": [
              "<Figure size 432x288 with 1 Axes>"
            ]
          },
          "metadata": {
            "tags": [],
            "needs_background": "light"
          }
        }
      ]
    },
    {
      "cell_type": "code",
      "metadata": {
        "colab": {
          "base_uri": "https://localhost:8080/"
        },
        "id": "NCS_FwTQmyoa",
        "outputId": "d213765c-f714-4c38-f7ba-79e322fd7640"
      },
      "source": [
        "weights_mat = vector_to_mat(weights_vector, weights_mat)\n",
        "best_weights = weights_mat [0, :]\n",
        "acc, predictions = predict(x_test, y_test, best_weights, sigmoid)\n",
        "print(\"Accuracy of the best solution is : \", acc)"
      ],
      "execution_count": 22,
      "outputs": [
        {
          "output_type": "stream",
          "text": [
            "Accuracy of the best solution is :  0.8416735028712059\n"
          ],
          "name": "stdout"
        }
      ]
    }
  ]
}